{
 "cells": [
  {
   "cell_type": "code",
   "execution_count": null,
   "metadata": {
    "id": "EKFmUX_pOYfB"
   },
   "outputs": [],
   "source": [
    "# Simple for loop to check if python3 is working.\n",
    "for x in range(1, 5):  # If you ever see xrange, you are in Python 2\n",
    "    print(x)  # If you ever see print x (no parenthesis), you are in Python 2"
   ]
  },
  {
   "cell_type": "code",
   "execution_count": null,
   "metadata": {
    "id": "K1NBWtryTOUy"
   },
   "outputs": [],
   "source": [
    "try:\n",
    "    from google.colab import drive\n",
    "    drive.mount('/content/drive', force_remount=True)\n",
    "    COLAB = True\n",
    "    print(\"Note: using Google CoLab\")\n",
    "    %tensorflow_version 2.x\n",
    "except:\n",
    "    print(\"Note: not using Google CoLab\")\n",
    "    COLAB = False"
   ]
  },
  {
   "cell_type": "code",
   "execution_count": null,
   "metadata": {
    "id": "Z9WHUCgbTjrB"
   },
   "outputs": [],
   "source": [
    "#https://www.youtube.com/watch?v=j-3vuBynnOE\n",
    "\n",
    "#pip install opencv-pythonimport tensorflow as tf\n",
    "import matplotlib.pyplot as plt\n",
    "from sklearn.metrics import roc_curve, auc\n",
    "import os\n",
    "import cv2\n",
    "\n",
    "DATADIR = \"/content/drive/My Drive/Colab Notebooks/XandO/\"\n",
    "#CATEGORIES = [\"O\", \"Other\"]\n",
    "#CATEGORIES = [\"X\", \"O\"]\n",
    "CATEGORIES = [\"X\"]\n",
    "#CATEGORIES = [\"X\", \"Other\"]\n",
    "\n",
    "for category in CATEGORIES:\n",
    "    path = os.path.join(DATADIR, category)\n",
    "    for img in os.listdir(path):\n",
    "        try:\n",
    "            img_array = cv2.imread(os.path.join(path,img), cv2.IMREAD_GRAYSCALE)\n",
    "            plt.imshow(img_array, cmap=\"gray\")\n",
    "        except Exception as e:\n",
    "            pass\n"
   ]
  },
  {
   "cell_type": "code",
   "execution_count": null,
   "metadata": {
    "id": "Vo15yCFCV6gD"
   },
   "outputs": [],
   "source": [
    "!ls /content/drive/My\\ Drive/Colab\\ Notebooks"
   ]
  },
  {
   "cell_type": "code",
   "execution_count": null,
   "metadata": {
    "id": "5bathcfmm4pM"
   },
   "outputs": [],
   "source": [
    "import numpy as np\n",
    "import matplotlib.pyplot as plt\n",
    "import os\n",
    "import cv2\n",
    "import random\n",
    "\n",
    "#DATADIR = \"./train/\"\n",
    "#CATEGORIES = [\"Jibril\", \"Sulayman\"]\n",
    "#DATADIR = \"./XandO/\"\n",
    "#CATEGORIES = [\"X\", \"O\"]\n",
    "#DATADIR = \"./kagglecatsanddogs_3367a/PetImages\"\n",
    "#DATADIR = \"./kagglecatsanddogs_small/PetImages\"\n",
    "#CATEGORIES = [\"Dog\", \"Cat\"]\n",
    "\n",
    "\n",
    "IMG_SIZE = 50\n",
    "\n",
    "training_data = []\n",
    "def create_training_data():\n",
    "    for category in CATEGORIES:\n",
    "        path = os.path.join(DATADIR, category)\n",
    "        class_num = CATEGORIES.index(category)\n",
    "        for img in os.listdir(path):\n",
    "            try:\n",
    "                img_array = cv2.imread(os.path.join(path,img), cv2.IMREAD_GRAYSCALE)\n",
    "                new_array = cv2.resize(img_array, (IMG_SIZE, IMG_SIZE))\n",
    "                training_data.append([new_array,class_num])\n",
    "            except Exception as e:\n",
    "                pass\n",
    "\n",
    "create_training_data()\n",
    "print(len(training_data))\n",
    "\n",
    "random.shuffle(training_data)\n",
    "\n",
    "#for sample in training_data:\n",
    "#    print(sample[1])\n",
    "\n",
    "X=[]\n",
    "Y=[]\n",
    "for features, label in training_data:\n",
    "    X.append(features)\n",
    "    Y.append(label)\n",
    "    \n",
    "X = np.array(X).reshape(-1, IMG_SIZE, IMG_SIZE,1)\n",
    "Y = np.array(Y)\n",
    "X = X/255.0\n",
    "#print (X)"
   ]
  },
  {
   "cell_type": "code",
   "execution_count": null,
   "metadata": {
    "id": "F2GQL1X1mmdS"
   },
   "outputs": [],
   "source": [
    "import tensorflow as tf\n",
    "from tensorflow.keras.models import Sequential\n",
    "from tensorflow.keras.layers import Dense, Dropout, Activation, Flatten, Conv2D, MaxPooling2D\n",
    "from tensorflow.keras.callbacks import EarlyStopping\n",
    "from sklearn.model_selection import train_test_split\n",
    "import pickle\n",
    "\n",
    "#X=pickle.load(open(\"X.pickle\", \"rb\"))\n",
    "#Y = pickle.load(open(\"Y.pickle\",\"rb\"))\n",
    "#print(X)\n",
    "\n",
    "# Split into train/test\n",
    "x_train, x_test, y_train, y_test = train_test_split(    \n",
    "    X, Y, test_size=0.2, random_state=42)\n",
    "print(\"X.shape=\",X.shape)\n",
    "print(\"x_train.shape=\",x_train.shape)\n",
    "print(\"y_train.shape=\",y_train.shape)\n",
    "print(\"x_test.shape=\",x_test.shape)\n",
    "print(\"y_test.shape=\",y_test.shape)\n",
    "\n",
    "callback = EarlyStopping(monitor='val_loss', patience=5)\n",
    "# This callback will stop the training when there is no improvement in\n",
    "# the validation loss for five consecutive epochs.\n",
    "\n",
    "model = Sequential()\n",
    "\n",
    "model.add(Conv2D(14,(3,3),input_shape=X.shape[1:]))\n",
    "#model.add(Conv2D(7,(3,3),input_shape=x_train.shape[1:]))\n",
    "model.add(Activation(\"relu\"))\n",
    "model.add(MaxPooling2D(pool_size=(2,2)))\n",
    "\n",
    "model.add(Conv2D(14,(3,3)))\n",
    "#model.add(Conv2D(7,(3,3)))\n",
    "model.add(Activation(\"relu\"))\n",
    "model.add(MaxPooling2D(pool_size=(2,2)))\n",
    "\n",
    "model.add(Flatten())\n",
    "model.add(Dense(64))\n",
    "\n",
    "model.add(Dropout(0.2))\n",
    "model.add(Dense(1))\n",
    "model.add(Activation('sigmoid'))\n",
    "\n",
    "model.compile(loss=\"binary_crossentropy\",\n",
    "              optimizer=\"adam\",\n",
    "              metrics=['accuracy'])\n",
    "#model.fit(x_train, y_train,batch_size=32,epochs=500,callbacks=[callback],validation_data=(x_test,y_test))\n",
    "model.fit(x_train, y_train,batch_size=32,epochs=10,validation_data=(x_test,y_test),verbose=0)\n"
   ]
  }
 ],
 "metadata": {
  "colab": {
   "collapsed_sections": [],
   "name": "ItoAI-S21-HW4-v3.ipynb",
   "provenance": []
  },
  "kernelspec": {
   "display_name": "Python 3",
   "language": "python",
   "name": "python3"
  },
  "language_info": {
   "codemirror_mode": {
    "name": "ipython",
    "version": 3
   },
   "file_extension": ".py",
   "mimetype": "text/x-python",
   "name": "python",
   "nbconvert_exporter": "python",
   "pygments_lexer": "ipython3",
   "version": "3.8.3"
  }
 },
 "nbformat": 4,
 "nbformat_minor": 1
}
